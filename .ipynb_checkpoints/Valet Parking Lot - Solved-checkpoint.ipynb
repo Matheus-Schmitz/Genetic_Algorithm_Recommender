{
 "cells": [
  {
   "cell_type": "code",
   "execution_count": 207,
   "id": "8da4e07c",
   "metadata": {},
   "outputs": [],
   "source": [
    "\"\"\"\n",
    "Design and implement a valet parking lot.\n",
    "\n",
    "Assumptions:\n",
    "- The parking lot can hold motorcycles, cars and vans\n",
    "- The parking lot has 10 identical rows, each with 2 motorcycle spots and 5 regular spots\n",
    "- A motorcycle can park in either spot\n",
    "- A car can park in a regular spot\n",
    "- A van can park, but it will take up 3 regular spots\n",
    "- A vehicle must pay $1 per hour for each spot it takes up\n",
    "\n",
    "Here are a few methods that you should implement:\n",
    "- Handle when a vehicle arrives. The method should take in the vehicle's type and license plate.\n",
    "- Handle when a vehicle wants to leave. The method should take in the vehicle's license plate, and return the $ amount they should be charged.\n",
    "\"\"\"\n",
    "import time\n",
    "import numpy as np\n",
    "import datetime\n",
    "\n",
    "class ParkingLot():\n",
    "    \n",
    "    '''Parking Lot instance, which handles car entrance and exit, allocting spots and calculating due payments'''\n",
    "    \n",
    "    def __init__(self, total_rows: int, car_spots_per_row: int, motorcycle_spots_per_row: int):\n",
    "        self.occupancy = dict()\n",
    "        self.car_spots = [0] * total_rows * car_spots_per_row\n",
    "        self.motorcycles_spots = [0] * total_rows * motorcycle_spots_per_row\n",
    "    \n",
    "    def allocate_spot(self, vehicle):\n",
    "        \n",
    "        '''Based on vehicle type, allocates a parking spot'''\n",
    "        \n",
    "        if vehicle.type == 'motorcycle' and min(self.motorcycles_spots) == 0:\n",
    "            return [np.argmin(self.motorcycles_spots).tolist(), 'motorcycle']\n",
    "        elif vehicle.type != 'van' and min(self.car_spots) == 0:\n",
    "            return [np.argmin(self.car_spots).tolist(), 'car']\n",
    "        elif vehicle.type == 'van':\n",
    "            for idx, status in enumerate(self.car_spots):\n",
    "                if self.car_spots[idx:idx+3] == [0, 0, 0]:\n",
    "                    return [[idx, idx+1, idx+2], 'van']\n",
    "        return ['No spots left', None]\n",
    "    \n",
    "    def vehicle_entry(self, vehicle):\n",
    "        if vehicle.license_plate in self.occupancy:\n",
    "            raise Exception(f'Vehicle with plate: {vehicle.license_plate} already parked inside')\n",
    "        spot_loc, spot_type = self.allocate_spot(vehicle)\n",
    "        if spot_loc == 'No spots left':\n",
    "            raise Exception('No spots left')\n",
    "        elif type(spot_loc) == int:\n",
    "            self.car_spots[spot_loc] = 1\n",
    "        else:\n",
    "            self.car_spots[spot_loc[0]:spot_loc[1]+1] = [1, 1, 1]\n",
    "        self.occupancy[vehicle.license_plate] = {'spot_type': spot_type,\n",
    "                                                 'entry_time': datetime.datetime.now()}\n",
    "\n",
    "    def vehicle_exit(self, vehicle):\n",
    "        amount_due = self.calculate_payment(vehicle)\n",
    "        del self.occupancy[vehicle.license_plate]\n",
    "        return amount_due\n",
    "    \n",
    "    def calculate_payment(self, vehicle):\n",
    "        exit = datetime.datetime.now()\n",
    "        entry = self.occupancy[vehicle.license_plate]['entry_time']\n",
    "        spot_type = self.occupancy[vehicle.license_plate]['spot_type']\n",
    "        payment = (exit - entry).seconds/3600\n",
    "        print(payment)\n",
    "        if vehicle.type == 'van':\n",
    "            payment *= 3\n",
    "        return payment\n",
    "\n",
    "    \n",
    "    \n",
    "class Vehicle():\n",
    "    \n",
    "    '''Instantiated in the system for every vehicle that enters the parking lot'''\n",
    "    \n",
    "    def __init__(self, type: str, license_plate: str):\n",
    "        self.type = type\n",
    "        self.license_plate = license_plate"
   ]
  },
  {
   "cell_type": "code",
   "execution_count": 216,
   "id": "c2559bb8",
   "metadata": {},
   "outputs": [],
   "source": [
    "pl = ParkingLot(total_rows=10, car_spots_per_row=5, motorcycle_spots_per_row=2)"
   ]
  },
  {
   "cell_type": "code",
   "execution_count": 217,
   "id": "a4de0eca",
   "metadata": {},
   "outputs": [],
   "source": [
    "car = Vehicle('car', '1')\n",
    "motorcycle = Vehicle('motorcycle', '2')\n",
    "van = Vehicle('van', '3')"
   ]
  },
  {
   "cell_type": "code",
   "execution_count": 218,
   "id": "3d4d9b9a",
   "metadata": {},
   "outputs": [],
   "source": [
    "for _ in range(10):\n",
    "    car = Vehicle('car', np.random.uniform(0, 10e9))\n",
    "    pl.vehicle_entry(car)\n",
    "pl.vehicle_entry(van)"
   ]
  },
  {
   "cell_type": "code",
   "execution_count": 219,
   "id": "943c4f1c",
   "metadata": {},
   "outputs": [
    {
     "name": "stdout",
     "output_type": "stream",
     "text": [
      "0.0\n"
     ]
    },
    {
     "data": {
      "text/plain": [
       "0.0"
      ]
     },
     "execution_count": 219,
     "metadata": {},
     "output_type": "execute_result"
    }
   ],
   "source": [
    "pl.vehicle_exit(car)"
   ]
  },
  {
   "cell_type": "code",
   "execution_count": 220,
   "id": "abe2102e",
   "metadata": {},
   "outputs": [
    {
     "data": {
      "text/plain": [
       "{3527669002.212963: {'spot_type': 'car',\n",
       "  'entry_time': datetime.datetime(2022, 4, 5, 18, 47, 33, 224555)},\n",
       " 4650734905.398711: {'spot_type': 'car',\n",
       "  'entry_time': datetime.datetime(2022, 4, 5, 18, 47, 33, 224555)},\n",
       " 8424239754.378841: {'spot_type': 'car',\n",
       "  'entry_time': datetime.datetime(2022, 4, 5, 18, 47, 33, 224555)},\n",
       " 3025454101.8776517: {'spot_type': 'car',\n",
       "  'entry_time': datetime.datetime(2022, 4, 5, 18, 47, 33, 224555)},\n",
       " 2802154479.0080333: {'spot_type': 'car',\n",
       "  'entry_time': datetime.datetime(2022, 4, 5, 18, 47, 33, 224555)},\n",
       " 4583741813.78658: {'spot_type': 'car',\n",
       "  'entry_time': datetime.datetime(2022, 4, 5, 18, 47, 33, 224555)},\n",
       " 7723358590.494488: {'spot_type': 'car',\n",
       "  'entry_time': datetime.datetime(2022, 4, 5, 18, 47, 33, 224555)},\n",
       " 3357230891.993961: {'spot_type': 'car',\n",
       "  'entry_time': datetime.datetime(2022, 4, 5, 18, 47, 33, 224555)},\n",
       " 7830712257.283312: {'spot_type': 'car',\n",
       "  'entry_time': datetime.datetime(2022, 4, 5, 18, 47, 33, 224555)},\n",
       " '3': {'spot_type': 'van',\n",
       "  'entry_time': datetime.datetime(2022, 4, 5, 18, 47, 33, 224555)}}"
      ]
     },
     "execution_count": 220,
     "metadata": {},
     "output_type": "execute_result"
    }
   ],
   "source": [
    "pl.occupancy"
   ]
  },
  {
   "cell_type": "code",
   "execution_count": null,
   "id": "ca5a250e",
   "metadata": {},
   "outputs": [],
   "source": []
  }
 ],
 "metadata": {
  "kernelspec": {
   "display_name": "Python 3",
   "language": "python",
   "name": "python3"
  },
  "language_info": {
   "codemirror_mode": {
    "name": "ipython",
    "version": 3
   },
   "file_extension": ".py",
   "mimetype": "text/x-python",
   "name": "python",
   "nbconvert_exporter": "python",
   "pygments_lexer": "ipython3",
   "version": "3.7.10"
  }
 },
 "nbformat": 4,
 "nbformat_minor": 5
}
