{
 "cells": [
  {
   "cell_type": "markdown",
   "id": "e60a80c8",
   "metadata": {},
   "source": [
    "# Challenge 2"
   ]
  },
  {
   "cell_type": "markdown",
   "id": "e1545f60",
   "metadata": {},
   "source": [
    "## Imports"
   ]
  },
  {
   "cell_type": "code",
   "execution_count": 436,
   "id": "b3554821",
   "metadata": {},
   "outputs": [],
   "source": [
    "# Data Manipualtion\n",
    "import numpy as np\n",
    "import pandas as pd\n",
    "pd.options.display.float_format = \"{:,.3f}\".format\n",
    "from collections import defaultdict\n",
    "from itertools import combinations\n",
    "\n",
    "# Auxilary\n",
    "from tqdm import tqdm\n",
    "\n",
    "# Machine Learning\n",
    "import sklearn\n",
    "from sklearn.ensemble import GradientBoostingRegressor, RandomForestRegressor\n",
    "from sklearn.model_selection import GridSearchCV, KFold\n",
    "from sklearn.pipeline import Pipeline\n",
    "from sklearn.preprocessing import MinMaxScaler\n",
    "from sklearn.metrics import mean_squared_error\n",
    "\n",
    "# Genetic Algorithm\n",
    "import pygad"
   ]
  },
  {
   "cell_type": "markdown",
   "id": "a9285180",
   "metadata": {},
   "source": [
    "## Load Data"
   ]
  },
  {
   "cell_type": "code",
   "execution_count": 437,
   "id": "fed13110",
   "metadata": {},
   "outputs": [],
   "source": [
    "# Load Data\n",
    "df = pd.read_csv('dataset_B.csv')\n",
    "\n",
    "# Split\n",
    "X = df.drop(columns=['fermentation_time', 'coagulation_quality'])\n",
    "fermentation_time = df['fermentation_time']\n",
    "coagulation_quality = df['coagulation_quality']\n",
    "\n",
    "# Scale data\n",
    "mms = defaultdict(lambda: MinMaxScaler())\n",
    "X = pd.DataFrame(mms['X'].fit_transform(X), columns=X.columns)\n",
    "fermentation_time = mms['ft'].fit_transform(fermentation_time.to_numpy().reshape(-1, 1))\n",
    "coagulation_quality = mms['cq'].fit_transform(coagulation_quality.to_numpy().reshape(-1, 1))"
   ]
  },
  {
   "cell_type": "markdown",
   "id": "5e06c541",
   "metadata": {},
   "source": [
    "## Machine Learning"
   ]
  },
  {
   "cell_type": "markdown",
   "id": "74ff414b",
   "metadata": {},
   "source": [
    "**Fermentation Time**"
   ]
  },
  {
   "cell_type": "code",
   "execution_count": 438,
   "id": "8b9bb6e7",
   "metadata": {},
   "outputs": [
    {
     "name": "stdout",
     "output_type": "stream",
     "text": [
      "Wall time: 10.8 s\n"
     ]
    }
   ],
   "source": [
    "%%time\n",
    "# Pipeline to standardize then run the classifier\n",
    "R_ft =  Pipeline([(\"scaler\", MinMaxScaler()),\n",
    "                  (\"rf\", GradientBoostingRegressor())])\n",
    "\n",
    "# Grid with parameters to be tested via CV\n",
    "R_ft_param_grid_ = {'rf__max_depth': [3, 4, 5, 6],\n",
    "                    'rf__min_samples_leaf': [1, 2, 3, 4],\n",
    "                    'rf__ccp_alpha': np.logspace(-3, 0, 4)}\n",
    "\n",
    "# Instantiate GridSearchCV using accuracy as the scorer\n",
    "R_ft_gridCV = GridSearchCV(R_ft, R_ft_param_grid_, cv=5, n_jobs=-1, scoring='neg_root_mean_squared_error')\n",
    "\n",
    "# Run GridSearchCV\n",
    "R_ft_gridCV = R_ft_gridCV.fit(X, fermentation_time.ravel())"
   ]
  },
  {
   "cell_type": "markdown",
   "id": "e0890d80",
   "metadata": {},
   "source": [
    "**Coagulation Quality**"
   ]
  },
  {
   "cell_type": "code",
   "execution_count": 439,
   "id": "023ac310",
   "metadata": {},
   "outputs": [
    {
     "name": "stdout",
     "output_type": "stream",
     "text": [
      "Wall time: 4.26 s\n"
     ]
    }
   ],
   "source": [
    "%%time\n",
    "# Pipeline to standardize then run the classifier\n",
    "R_cq =  Pipeline([(\"scaler\", MinMaxScaler()),\n",
    "                  (\"rf\", GradientBoostingRegressor())])\n",
    "\n",
    "# Grid with parameters to be tested via CV\n",
    "R_cq_param_grid_ = {'rf__max_depth': [3, 4, 5, 6],\n",
    "                    'rf__min_samples_leaf': [1, 2, 3, 4],\n",
    "                    'rf__ccp_alpha': np.logspace(-3, 0, 4)}\n",
    "\n",
    "# Instantiate GridSearchCV using accuracy as the scorer\n",
    "R_cq_gridCV = GridSearchCV(R_cq, R_cq_param_grid_, cv=5, n_jobs=-1, scoring='neg_root_mean_squared_error')\n",
    "\n",
    "# Run GridSearchCV\n",
    "R_cq_gridCV = R_cq_gridCV.fit(X, coagulation_quality.ravel())"
   ]
  },
  {
   "cell_type": "markdown",
   "id": "ffc805b0",
   "metadata": {},
   "source": [
    "## Optimize Genetic Algorithm Hyperparameters"
   ]
  },
  {
   "cell_type": "code",
   "execution_count": 440,
   "id": "2840cbec",
   "metadata": {},
   "outputs": [],
   "source": [
    "_parent_selection_type = ['sss', 'sus', 'tournament']\n",
    "_crossover_type = ['single_point', 'scattered']\n",
    "_crossover_probability = [0.33, 0.66]\n",
    "_mutation_type = ['random', 'swap']\n",
    "_mutation_probability = [0.2, 0.5, 0.8]"
   ]
  },
  {
   "cell_type": "code",
   "execution_count": null,
   "id": "450adeb9",
   "metadata": {},
   "outputs": [
    {
     "name": "stdout",
     "output_type": "stream",
     "text": [
      "ct: single_point | cp: 0.33 | error: 68.3944031062464\n",
      "ct: single_point | cp: 0.66 | error: 61.591207011819314\n"
     ]
    }
   ],
   "source": [
    "best_params = defaultdict(lambda: None)\n",
    "min_error = float('inf')\n",
    "\n",
    "for _ct in _crossover_type:\n",
    "    for _cp in _crossover_probability:\n",
    "\n",
    "        error = 0\n",
    "\n",
    "        # Test parameter combination on all test data\n",
    "        for idx, row in df.iterrows():\n",
    "            # Targets\n",
    "            target_ft = row['fermentation_time']\n",
    "            target_cq = row['coagulation_quality']\n",
    "\n",
    "            # Scale\n",
    "            scaled_target_ft = mms['ft'].transform([[target_ft]])[0][0]\n",
    "            scaled_target_cq = mms['cq'].transform([[target_cq]])[0][0]\n",
    "\n",
    "            def fitness_func(solution, solution_idx):\n",
    "                # Fermentation time\n",
    "                pred_ft = R_ft_gridCV.predict([solution])[0]\n",
    "                ft_error = -(scaled_target_ft - pred_ft)**2 # negative squared error for maximization problem\n",
    "                # Coagulation Quality\n",
    "                pred_cq = R_cq_gridCV.predict([solution])[0]\n",
    "                cq_error = -(scaled_target_cq - pred_cq)**2 # negative squared error for maximization problem\n",
    "                return ft_error + cq_error\n",
    "\n",
    "            # Genetic Algorithm\n",
    "            ga_instance = pygad.GA(num_generations = 200,\n",
    "                                   num_parents_mating = 5,\n",
    "                                   fitness_func = fitness_func,\n",
    "                                   sol_per_pop = 10,\n",
    "                                   num_genes = X.shape[1],\n",
    "                                   init_range_low = 0.0,\n",
    "                                   init_range_high = 1.0,\n",
    "                                   gene_space = {'low': 0, 'high': 1},\n",
    "                                   parent_selection_type = 'sss',\n",
    "                                   keep_parents = 1,\n",
    "                                   crossover_type = _ct,\n",
    "                                   crossover_probability = _cp,\n",
    "                                   mutation_type = 'adaptive',\n",
    "                                   mutation_probability = (0.8, 0.2),\n",
    "                                   save_best_solutions = True,\n",
    "                                   suppress_warnings = True)\n",
    "            ga_instance.run()\n",
    "\n",
    "            # Get solution and predicted values\n",
    "            last_generation = ga_instance.last_generation_offspring_mutation\n",
    "            last_generation = np.concatenate([ga_instance.best_solution()[0].reshape(1, -1), last_generation])\n",
    "            pred_fts = R_ft_gridCV.predict(last_generation)\n",
    "            pred_cqs = R_ft_gridCV.predict(last_generation)\n",
    "\n",
    "            # Error\n",
    "            error += sum((pred_fts - scaled_target_ft)**2 + (pred_cqs - scaled_target_cq)**2)\n",
    "\n",
    "        if error < min_error:\n",
    "            best_params['_ct'] = _ct\n",
    "            best_params['_cp'] = _cp\n",
    "            best_params['error'] = error\n",
    "            min_error = error\n",
    "\n",
    "        print(f'ct: {_ct} | cp: {_cp} | error: {error}')"
   ]
  },
  {
   "cell_type": "markdown",
   "id": "4693d1f7",
   "metadata": {},
   "source": [
    "## Genetic Algorithm"
   ]
  },
  {
   "cell_type": "code",
   "execution_count": null,
   "id": "d8c65b76",
   "metadata": {},
   "outputs": [],
   "source": [
    "def recommend(target_ft, target_cq):\n",
    "    # Transform inputs\n",
    "    scaled_target_ft = mms['ft'].transform([[target_ft]])[0][0]\n",
    "    scaled_target_cq = mms['cq'].transform([[target_cq]])[0][0]\n",
    "\n",
    "    # Define fitness\n",
    "    def fitness_func(solution, solution_idx):\n",
    "        # Fermentation time\n",
    "        pred_ft = R_ft_gridCV.predict([solution])[0]\n",
    "        ft_error = -(scaled_target_ft - pred_ft)**2 # negative squared error for maximization problem\n",
    "        # Coagulation Quality\n",
    "        pred_cq = R_cq_gridCV.predict([solution])[0]\n",
    "        cq_error = -(scaled_target_cq - pred_cq)**2 # negative squared error for maximization problem\n",
    "        return ft_error + cq_error\n",
    "\n",
    "    # Instantiate and run Genetic Algorithm\n",
    "    ga_instance = pygad.GA(num_generations = 200,\n",
    "                   num_parents_mating = 5,\n",
    "                   fitness_func = fitness_func,\n",
    "                   sol_per_pop = 10,\n",
    "                   num_genes = X.shape[1],\n",
    "                   init_range_low = 0.0,\n",
    "                   init_range_high = 1.0,\n",
    "                   gene_space = {'low':0, 'high':1},\n",
    "                   parent_selection_type = 'sss',\n",
    "                   keep_parents = 1,\n",
    "                   crossover_type = best_params['_ct'],\n",
    "                   crossover_probability = best_params['_cp'],\n",
    "                   mutation_type = 'adaptive',\n",
    "                   mutation_probability = (0.8, 0.2),\n",
    "                   save_best_solutions = True,\n",
    "                   suppress_warnings = True)\n",
    "    ga_instance.run()\n",
    "\n",
    "    # Get solution and predicted values\n",
    "    last_generation = ga_instance.last_generation_offspring_mutation\n",
    "    last_generation = np.concatenate([ga_instance.best_solution()[0].reshape(1, -1), last_generation])\n",
    "    pred_fts = R_ft_gridCV.predict(last_generation)\n",
    "    pred_cqs = R_ft_gridCV.predict(last_generation)\n",
    "\n",
    "    # Convert back to original scale\n",
    "    denormalized_Xs = mms['X'].inverse_transform(last_generation)\n",
    "    denormalized_fts = mms['ft'].inverse_transform([pred_fts])\n",
    "    denormalized_cqs = mms['cq'].inverse_transform([pred_cqs])\n",
    "\n",
    "    # Merge \n",
    "    df_X = pd.DataFrame(denormalized_Xs)\n",
    "    df_ft = pd.DataFrame(denormalized_fts).T\n",
    "    df_cq = pd.DataFrame(denormalized_cqs).T\n",
    "    output = pd.concat([df_X, df_ft, df_cq], axis='columns')\n",
    "    output.columns = df.columns\n",
    "\n",
    "    return output"
   ]
  },
  {
   "cell_type": "markdown",
   "id": "bc77a2d1",
   "metadata": {},
   "source": [
    "## Usage"
   ]
  },
  {
   "cell_type": "code",
   "execution_count": null,
   "id": "1cacfdbf",
   "metadata": {},
   "outputs": [],
   "source": [
    "target_ft = 155\n",
    "target_cq = 1.9\n",
    "\n",
    "recommend(target_ft, target_cq)"
   ]
  },
  {
   "cell_type": "code",
   "execution_count": null,
   "id": "269177f5",
   "metadata": {},
   "outputs": [],
   "source": [
    "ga_instance."
   ]
  },
  {
   "cell_type": "code",
   "execution_count": null,
   "id": "eff7799b",
   "metadata": {},
   "outputs": [],
   "source": [
    "    "
   ]
  },
  {
   "cell_type": "code",
   "execution_count": null,
   "id": "78491ab9",
   "metadata": {},
   "outputs": [],
   "source": []
  },
  {
   "cell_type": "code",
   "execution_count": null,
   "id": "e6b747bf",
   "metadata": {},
   "outputs": [],
   "source": []
  },
  {
   "cell_type": "code",
   "execution_count": null,
   "id": "6fc7903f",
   "metadata": {},
   "outputs": [],
   "source": []
  },
  {
   "cell_type": "code",
   "execution_count": null,
   "id": "65bb3fd6",
   "metadata": {},
   "outputs": [],
   "source": []
  }
 ],
 "metadata": {
  "kernelspec": {
   "display_name": "Python 3",
   "language": "python",
   "name": "python3"
  },
  "language_info": {
   "codemirror_mode": {
    "name": "ipython",
    "version": 3
   },
   "file_extension": ".py",
   "mimetype": "text/x-python",
   "name": "python",
   "nbconvert_exporter": "python",
   "pygments_lexer": "ipython3",
   "version": "3.7.10"
  }
 },
 "nbformat": 4,
 "nbformat_minor": 5
}
